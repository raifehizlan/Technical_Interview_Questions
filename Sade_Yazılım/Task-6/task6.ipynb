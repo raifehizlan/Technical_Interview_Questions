{
 "cells": [
  {
   "cell_type": "code",
   "execution_count": 1,
   "metadata": {},
   "outputs": [],
   "source": [
    "import pandas as pd"
   ]
  },
  {
   "cell_type": "code",
   "execution_count": 111,
   "metadata": {},
   "outputs": [],
   "source": [
    "df = pd.read_excel('task6.xlsx')"
   ]
  },
  {
   "cell_type": "code",
   "execution_count": 112,
   "metadata": {},
   "outputs": [
    {
     "data": {
      "text/html": [
       "<div>\n",
       "<style scoped>\n",
       "    .dataframe tbody tr th:only-of-type {\n",
       "        vertical-align: middle;\n",
       "    }\n",
       "\n",
       "    .dataframe tbody tr th {\n",
       "        vertical-align: top;\n",
       "    }\n",
       "\n",
       "    .dataframe thead th {\n",
       "        text-align: right;\n",
       "    }\n",
       "</style>\n",
       "<table border=\"1\" class=\"dataframe\">\n",
       "  <thead>\n",
       "    <tr style=\"text-align: right;\">\n",
       "      <th></th>\n",
       "      <th>adres</th>\n",
       "    </tr>\n",
       "  </thead>\n",
       "  <tbody>\n",
       "    <tr>\n",
       "      <th>0</th>\n",
       "      <td>Tugay Yolu Cad. No:60 12537489122 Maltepe</td>\n",
       "    </tr>\n",
       "    <tr>\n",
       "      <th>1</th>\n",
       "      <td>İnkılap Mah. 88372637771 Küçüksu Cd. No 6 Ümra...</td>\n",
       "    </tr>\n",
       "    <tr>\n",
       "      <th>2</th>\n",
       "      <td>11293888122 Soğanlık Mah. Muş Sk. No 63 Kartal</td>\n",
       "    </tr>\n",
       "    <tr>\n",
       "      <th>3</th>\n",
       "      <td>Bilezikçi sk 147 Şişli İstanbul 12229386</td>\n",
       "    </tr>\n",
       "  </tbody>\n",
       "</table>\n",
       "</div>"
      ],
      "text/plain": [
       "                                               adres\n",
       "0          Tugay Yolu Cad. No:60 12537489122 Maltepe\n",
       "1  İnkılap Mah. 88372637771 Küçüksu Cd. No 6 Ümra...\n",
       "2     11293888122 Soğanlık Mah. Muş Sk. No 63 Kartal\n",
       "3           Bilezikçi sk 147 Şişli İstanbul 12229386"
      ]
     },
     "execution_count": 112,
     "metadata": {},
     "output_type": "execute_result"
    }
   ],
   "source": [
    "df"
   ]
  },
  {
   "cell_type": "code",
   "execution_count": 113,
   "metadata": {},
   "outputs": [],
   "source": [
    "a = df.adres.apply(lambda x : x.split())"
   ]
  },
  {
   "cell_type": "code",
   "execution_count": 114,
   "metadata": {},
   "outputs": [
    {
     "data": {
      "text/plain": [
       "0     [Tugay, Yolu, Cad., No:60, 12537489122, Maltepe]\n",
       "1    [İnkılap, Mah., 88372637771, Küçüksu, Cd., No,...\n",
       "2    [11293888122, Soğanlık, Mah., Muş, Sk., No, 63...\n",
       "3      [Bilezikçi, sk, 147, Şişli, İstanbul, 12229386]\n",
       "Name: adres, dtype: object"
      ]
     },
     "execution_count": 114,
     "metadata": {},
     "output_type": "execute_result"
    }
   ],
   "source": [
    "a"
   ]
  },
  {
   "cell_type": "code",
   "execution_count": 115,
   "metadata": {},
   "outputs": [],
   "source": [
    "numbers = [[k for k in i if k.isdigit()] for i in a]"
   ]
  },
  {
   "cell_type": "code",
   "execution_count": 116,
   "metadata": {},
   "outputs": [
    {
     "data": {
      "text/plain": [
       "[['12537489122'],\n",
       " ['88372637771', '6'],\n",
       " ['11293888122', '63'],\n",
       " ['147', '12229386']]"
      ]
     },
     "execution_count": 116,
     "metadata": {},
     "output_type": "execute_result"
    }
   ],
   "source": [
    "numbers"
   ]
  },
  {
   "cell_type": "code",
   "execution_count": 117,
   "metadata": {},
   "outputs": [
    {
     "name": "stdout",
     "output_type": "stream",
     "text": [
      "['12537489122', '88372637771', '11293888122', '14712229386']\n",
      "['12537489122', '88372637771', '11293888122', '147', '12229386']\n"
     ]
    }
   ],
   "source": [
    "tc = []\n",
    "parcalar = []\n",
    "\n",
    "for i in numbers:\n",
    "    a = ''\n",
    "    for k in i:\n",
    "        if len(k) ==11 and len(i) != 1:\n",
    "            tc.append(k)\n",
    "            parcalar.append(k)\n",
    "    else:\n",
    "        a = ''.join(i)\n",
    "        if len(a) == 11:\n",
    "            tc.append(a)\n",
    "            parcalar.extend(i)\n",
    "            \n",
    "print(tc)\n",
    "print(parcalar)"
   ]
  },
  {
   "cell_type": "code",
   "execution_count": 119,
   "metadata": {},
   "outputs": [],
   "source": [
    "df['tc'] = pd.Series(tc)\n",
    "        "
   ]
  },
  {
   "cell_type": "code",
   "execution_count": 120,
   "metadata": {},
   "outputs": [
    {
     "data": {
      "text/html": [
       "<div>\n",
       "<style scoped>\n",
       "    .dataframe tbody tr th:only-of-type {\n",
       "        vertical-align: middle;\n",
       "    }\n",
       "\n",
       "    .dataframe tbody tr th {\n",
       "        vertical-align: top;\n",
       "    }\n",
       "\n",
       "    .dataframe thead th {\n",
       "        text-align: right;\n",
       "    }\n",
       "</style>\n",
       "<table border=\"1\" class=\"dataframe\">\n",
       "  <thead>\n",
       "    <tr style=\"text-align: right;\">\n",
       "      <th></th>\n",
       "      <th>adres</th>\n",
       "      <th>tc</th>\n",
       "    </tr>\n",
       "  </thead>\n",
       "  <tbody>\n",
       "    <tr>\n",
       "      <th>0</th>\n",
       "      <td>Tugay Yolu Cad. No:60 12537489122 Maltepe</td>\n",
       "      <td>12537489122</td>\n",
       "    </tr>\n",
       "    <tr>\n",
       "      <th>1</th>\n",
       "      <td>İnkılap Mah. 88372637771 Küçüksu Cd. No 6 Ümra...</td>\n",
       "      <td>88372637771</td>\n",
       "    </tr>\n",
       "    <tr>\n",
       "      <th>2</th>\n",
       "      <td>11293888122 Soğanlık Mah. Muş Sk. No 63 Kartal</td>\n",
       "      <td>11293888122</td>\n",
       "    </tr>\n",
       "    <tr>\n",
       "      <th>3</th>\n",
       "      <td>Bilezikçi sk 147 Şişli İstanbul 12229386</td>\n",
       "      <td>14712229386</td>\n",
       "    </tr>\n",
       "  </tbody>\n",
       "</table>\n",
       "</div>"
      ],
      "text/plain": [
       "                                               adres           tc\n",
       "0          Tugay Yolu Cad. No:60 12537489122 Maltepe  12537489122\n",
       "1  İnkılap Mah. 88372637771 Küçüksu Cd. No 6 Ümra...  88372637771\n",
       "2     11293888122 Soğanlık Mah. Muş Sk. No 63 Kartal  11293888122\n",
       "3           Bilezikçi sk 147 Şişli İstanbul 12229386  14712229386"
      ]
     },
     "execution_count": 120,
     "metadata": {},
     "output_type": "execute_result"
    }
   ],
   "source": [
    "df"
   ]
  },
  {
   "cell_type": "code",
   "execution_count": 121,
   "metadata": {},
   "outputs": [],
   "source": [
    "for i in parcalar:\n",
    "    df.adres = df.adres.str.replace(i,'')"
   ]
  },
  {
   "cell_type": "code",
   "execution_count": 122,
   "metadata": {},
   "outputs": [
    {
     "data": {
      "text/html": [
       "<div>\n",
       "<style scoped>\n",
       "    .dataframe tbody tr th:only-of-type {\n",
       "        vertical-align: middle;\n",
       "    }\n",
       "\n",
       "    .dataframe tbody tr th {\n",
       "        vertical-align: top;\n",
       "    }\n",
       "\n",
       "    .dataframe thead th {\n",
       "        text-align: right;\n",
       "    }\n",
       "</style>\n",
       "<table border=\"1\" class=\"dataframe\">\n",
       "  <thead>\n",
       "    <tr style=\"text-align: right;\">\n",
       "      <th></th>\n",
       "      <th>adres</th>\n",
       "      <th>tc</th>\n",
       "    </tr>\n",
       "  </thead>\n",
       "  <tbody>\n",
       "    <tr>\n",
       "      <th>0</th>\n",
       "      <td>Tugay Yolu Cad. No:60  Maltepe</td>\n",
       "      <td>12537489122</td>\n",
       "    </tr>\n",
       "    <tr>\n",
       "      <th>1</th>\n",
       "      <td>İnkılap Mah.  Küçüksu Cd. No 6 Ümraniye</td>\n",
       "      <td>88372637771</td>\n",
       "    </tr>\n",
       "    <tr>\n",
       "      <th>2</th>\n",
       "      <td>Soğanlık Mah. Muş Sk. No 63 Kartal</td>\n",
       "      <td>11293888122</td>\n",
       "    </tr>\n",
       "    <tr>\n",
       "      <th>3</th>\n",
       "      <td>Bilezikçi sk  Şişli İstanbul</td>\n",
       "      <td>14712229386</td>\n",
       "    </tr>\n",
       "  </tbody>\n",
       "</table>\n",
       "</div>"
      ],
      "text/plain": [
       "                                     adres           tc\n",
       "0           Tugay Yolu Cad. No:60  Maltepe  12537489122\n",
       "1  İnkılap Mah.  Küçüksu Cd. No 6 Ümraniye  88372637771\n",
       "2       Soğanlık Mah. Muş Sk. No 63 Kartal  11293888122\n",
       "3            Bilezikçi sk  Şişli İstanbul   14712229386"
      ]
     },
     "execution_count": 122,
     "metadata": {},
     "output_type": "execute_result"
    }
   ],
   "source": [
    "df "
   ]
  }
 ],
 "metadata": {
  "kernelspec": {
   "display_name": "Python 3",
   "language": "python",
   "name": "python3"
  },
  "language_info": {
   "codemirror_mode": {
    "name": "ipython",
    "version": 3
   },
   "file_extension": ".py",
   "mimetype": "text/x-python",
   "name": "python",
   "nbconvert_exporter": "python",
   "pygments_lexer": "ipython3",
   "version": "3.8.5"
  }
 },
 "nbformat": 4,
 "nbformat_minor": 4
}
