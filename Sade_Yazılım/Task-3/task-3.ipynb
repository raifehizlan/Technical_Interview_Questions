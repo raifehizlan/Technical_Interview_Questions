{
 "cells": [
  {
   "cell_type": "code",
   "execution_count": 1,
   "metadata": {},
   "outputs": [],
   "source": [
    "import numpy as np\n",
    "import pandas as pd"
   ]
  },
  {
   "cell_type": "code",
   "execution_count": 2,
   "metadata": {},
   "outputs": [],
   "source": [
    "df = pd.read_excel(\"task3.xlsx\")"
   ]
  },
  {
   "cell_type": "code",
   "execution_count": 3,
   "metadata": {},
   "outputs": [
    {
     "data": {
      "text/html": [
       "<div>\n",
       "<style scoped>\n",
       "    .dataframe tbody tr th:only-of-type {\n",
       "        vertical-align: middle;\n",
       "    }\n",
       "\n",
       "    .dataframe tbody tr th {\n",
       "        vertical-align: top;\n",
       "    }\n",
       "\n",
       "    .dataframe thead th {\n",
       "        text-align: right;\n",
       "    }\n",
       "</style>\n",
       "<table border=\"1\" class=\"dataframe\">\n",
       "  <thead>\n",
       "    <tr style=\"text-align: right;\">\n",
       "      <th></th>\n",
       "      <th>IS_ADRESI</th>\n",
       "      <th>EV_ADRESI</th>\n",
       "    </tr>\n",
       "  </thead>\n",
       "  <tbody>\n",
       "    <tr>\n",
       "      <th>0</th>\n",
       "      <td>Tugay Yolu Cad. No:60 Maltepe</td>\n",
       "      <td>Tugay Yolu Caddesi No60 MALTEPE</td>\n",
       "    </tr>\n",
       "    <tr>\n",
       "      <th>1</th>\n",
       "      <td>İnkılap Mah. Küçüksu Cd. No 6 Ümraniye</td>\n",
       "      <td>İnkılap Mahallesi Küçüksu Caddesi No 6 Ümraniye</td>\n",
       "    </tr>\n",
       "    <tr>\n",
       "      <th>2</th>\n",
       "      <td>Soğanlık Mah. Muş Sk. No 63 Kartal</td>\n",
       "      <td>Soğanlık Mah. Muş Sk. No 61 Kartal</td>\n",
       "    </tr>\n",
       "  </tbody>\n",
       "</table>\n",
       "</div>"
      ],
      "text/plain": [
       "                                IS_ADRESI  \\\n",
       "0           Tugay Yolu Cad. No:60 Maltepe   \n",
       "1  İnkılap Mah. Küçüksu Cd. No 6 Ümraniye   \n",
       "2      Soğanlık Mah. Muş Sk. No 63 Kartal   \n",
       "\n",
       "                                         EV_ADRESI  \n",
       "0                  Tugay Yolu Caddesi No60 MALTEPE  \n",
       "1  İnkılap Mahallesi Küçüksu Caddesi No 6 Ümraniye  \n",
       "2               Soğanlık Mah. Muş Sk. No 61 Kartal  "
      ]
     },
     "execution_count": 3,
     "metadata": {},
     "output_type": "execute_result"
    }
   ],
   "source": [
    "df.head()"
   ]
  },
  {
   "cell_type": "code",
   "execution_count": 6,
   "metadata": {},
   "outputs": [],
   "source": [
    "df_new = df.apply(lambda x : x.str.lower().str.replace(':', '').str.replace('.', '')\n",
    "        .str.replace(\" cad \", \"caddesi\").str.replace(\" cd \", \"caddesi\")\n",
    "         .str.replace(\" mah \", \"mahallesi\").str.replace(\" \", \"\"))"
   ]
  },
  {
   "cell_type": "code",
   "execution_count": 10,
   "metadata": {},
   "outputs": [
    {
     "data": {
      "text/html": [
       "<div>\n",
       "<style scoped>\n",
       "    .dataframe tbody tr th:only-of-type {\n",
       "        vertical-align: middle;\n",
       "    }\n",
       "\n",
       "    .dataframe tbody tr th {\n",
       "        vertical-align: top;\n",
       "    }\n",
       "\n",
       "    .dataframe thead th {\n",
       "        text-align: right;\n",
       "    }\n",
       "</style>\n",
       "<table border=\"1\" class=\"dataframe\">\n",
       "  <thead>\n",
       "    <tr style=\"text-align: right;\">\n",
       "      <th></th>\n",
       "      <th>IS_ADRESI</th>\n",
       "      <th>EV_ADRESI</th>\n",
       "    </tr>\n",
       "  </thead>\n",
       "  <tbody>\n",
       "    <tr>\n",
       "      <th>0</th>\n",
       "      <td>Tugay Yolu Cad. No:60 Maltepe</td>\n",
       "      <td>Tugay Yolu Caddesi No60 MALTEPE</td>\n",
       "    </tr>\n",
       "    <tr>\n",
       "      <th>1</th>\n",
       "      <td>İnkılap Mah. Küçüksu Cd. No 6 Ümraniye</td>\n",
       "      <td>İnkılap Mahallesi Küçüksu Caddesi No 6 Ümraniye</td>\n",
       "    </tr>\n",
       "  </tbody>\n",
       "</table>\n",
       "</div>"
      ],
      "text/plain": [
       "                                IS_ADRESI  \\\n",
       "0           Tugay Yolu Cad. No:60 Maltepe   \n",
       "1  İnkılap Mah. Küçüksu Cd. No 6 Ümraniye   \n",
       "\n",
       "                                         EV_ADRESI  \n",
       "0                  Tugay Yolu Caddesi No60 MALTEPE  \n",
       "1  İnkılap Mahallesi Küçüksu Caddesi No 6 Ümraniye  "
      ]
     },
     "execution_count": 10,
     "metadata": {},
     "output_type": "execute_result"
    }
   ],
   "source": [
    "df[df_new['IS_ADRESI'] == df_new['EV_ADRESI']]"
   ]
  }
 ],
 "metadata": {
  "kernelspec": {
   "display_name": "Python 3",
   "language": "python",
   "name": "python3"
  },
  "language_info": {
   "codemirror_mode": {
    "name": "ipython",
    "version": 3
   },
   "file_extension": ".py",
   "mimetype": "text/x-python",
   "name": "python",
   "nbconvert_exporter": "python",
   "pygments_lexer": "ipython3",
   "version": "3.8.5"
  }
 },
 "nbformat": 4,
 "nbformat_minor": 5
}
